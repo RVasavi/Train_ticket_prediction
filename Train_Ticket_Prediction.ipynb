{
 "cells": [
  {
   "cell_type": "code",
   "execution_count": 1,
   "id": "27253b18",
   "metadata": {},
   "outputs": [],
   "source": [
    "import pandas as pd\n",
    "import matplotlib.pyplot as plt\n",
    "import numpy as np\n",
    "import seaborn as sns"
   ]
  },
  {
   "cell_type": "code",
   "execution_count": 2,
   "id": "f3043b00",
   "metadata": {},
   "outputs": [
    {
     "data": {
      "text/html": [
       "<div>\n",
       "<style scoped>\n",
       "    .dataframe tbody tr th:only-of-type {\n",
       "        vertical-align: middle;\n",
       "    }\n",
       "\n",
       "    .dataframe tbody tr th {\n",
       "        vertical-align: top;\n",
       "    }\n",
       "\n",
       "    .dataframe thead th {\n",
       "        text-align: right;\n",
       "    }\n",
       "</style>\n",
       "<table border=\"1\" class=\"dataframe\">\n",
       "  <thead>\n",
       "    <tr style=\"text-align: right;\">\n",
       "      <th></th>\n",
       "      <th>BookingStatus</th>\n",
       "      <th>Wno</th>\n",
       "      <th>ClassOfTravel</th>\n",
       "      <th>JourneyDate</th>\n",
       "      <th>Weekdays</th>\n",
       "      <th>Month</th>\n",
       "      <th>Days</th>\n",
       "      <th>Astatus</th>\n",
       "    </tr>\n",
       "  </thead>\n",
       "  <tbody>\n",
       "    <tr>\n",
       "      <th>0</th>\n",
       "      <td>WL</td>\n",
       "      <td>9</td>\n",
       "      <td>3A</td>\n",
       "      <td>2/12/2016</td>\n",
       "      <td>6</td>\n",
       "      <td>12</td>\n",
       "      <td>2</td>\n",
       "      <td>1</td>\n",
       "    </tr>\n",
       "    <tr>\n",
       "      <th>1</th>\n",
       "      <td>WL</td>\n",
       "      <td>3</td>\n",
       "      <td>3A</td>\n",
       "      <td>1/12/2016</td>\n",
       "      <td>5</td>\n",
       "      <td>12</td>\n",
       "      <td>1</td>\n",
       "      <td>1</td>\n",
       "    </tr>\n",
       "    <tr>\n",
       "      <th>2</th>\n",
       "      <td>WL</td>\n",
       "      <td>1</td>\n",
       "      <td>2A</td>\n",
       "      <td>3/12/2016</td>\n",
       "      <td>7</td>\n",
       "      <td>12</td>\n",
       "      <td>3</td>\n",
       "      <td>0</td>\n",
       "    </tr>\n",
       "    <tr>\n",
       "      <th>3</th>\n",
       "      <td>WL</td>\n",
       "      <td>67</td>\n",
       "      <td>SL</td>\n",
       "      <td>3/12/2016</td>\n",
       "      <td>7</td>\n",
       "      <td>12</td>\n",
       "      <td>3</td>\n",
       "      <td>0</td>\n",
       "    </tr>\n",
       "    <tr>\n",
       "      <th>4</th>\n",
       "      <td>WL</td>\n",
       "      <td>61</td>\n",
       "      <td>SL</td>\n",
       "      <td>3/12/2016</td>\n",
       "      <td>7</td>\n",
       "      <td>12</td>\n",
       "      <td>3</td>\n",
       "      <td>0</td>\n",
       "    </tr>\n",
       "    <tr>\n",
       "      <th>...</th>\n",
       "      <td>...</td>\n",
       "      <td>...</td>\n",
       "      <td>...</td>\n",
       "      <td>...</td>\n",
       "      <td>...</td>\n",
       "      <td>...</td>\n",
       "      <td>...</td>\n",
       "      <td>...</td>\n",
       "    </tr>\n",
       "    <tr>\n",
       "      <th>3220</th>\n",
       "      <td>TQWL</td>\n",
       "      <td>25</td>\n",
       "      <td>SL</td>\n",
       "      <td>19-07-2018</td>\n",
       "      <td>5</td>\n",
       "      <td>7</td>\n",
       "      <td>19</td>\n",
       "      <td>0</td>\n",
       "    </tr>\n",
       "    <tr>\n",
       "      <th>3221</th>\n",
       "      <td>TQWL</td>\n",
       "      <td>53</td>\n",
       "      <td>SL</td>\n",
       "      <td>20-07-2018</td>\n",
       "      <td>6</td>\n",
       "      <td>7</td>\n",
       "      <td>20</td>\n",
       "      <td>0</td>\n",
       "    </tr>\n",
       "    <tr>\n",
       "      <th>3222</th>\n",
       "      <td>TQWL</td>\n",
       "      <td>58</td>\n",
       "      <td>SL</td>\n",
       "      <td>20-07-2018</td>\n",
       "      <td>6</td>\n",
       "      <td>7</td>\n",
       "      <td>20</td>\n",
       "      <td>0</td>\n",
       "    </tr>\n",
       "    <tr>\n",
       "      <th>3223</th>\n",
       "      <td>TQWL</td>\n",
       "      <td>52</td>\n",
       "      <td>SL</td>\n",
       "      <td>20-07-2018</td>\n",
       "      <td>6</td>\n",
       "      <td>7</td>\n",
       "      <td>20</td>\n",
       "      <td>0</td>\n",
       "    </tr>\n",
       "    <tr>\n",
       "      <th>3224</th>\n",
       "      <td>TQWL</td>\n",
       "      <td>19</td>\n",
       "      <td>SL</td>\n",
       "      <td>20-07-2018</td>\n",
       "      <td>6</td>\n",
       "      <td>7</td>\n",
       "      <td>20</td>\n",
       "      <td>0</td>\n",
       "    </tr>\n",
       "  </tbody>\n",
       "</table>\n",
       "<p>3225 rows × 8 columns</p>\n",
       "</div>"
      ],
      "text/plain": [
       "     BookingStatus  Wno ClassOfTravel JourneyDate  Weekdays  Month  Days  \\\n",
       "0               WL    9            3A   2/12/2016         6     12     2   \n",
       "1               WL    3            3A   1/12/2016         5     12     1   \n",
       "2               WL    1            2A   3/12/2016         7     12     3   \n",
       "3               WL   67            SL   3/12/2016         7     12     3   \n",
       "4               WL   61            SL   3/12/2016         7     12     3   \n",
       "...            ...  ...           ...         ...       ...    ...   ...   \n",
       "3220          TQWL   25            SL  19-07-2018         5      7    19   \n",
       "3221          TQWL   53            SL  20-07-2018         6      7    20   \n",
       "3222          TQWL   58            SL  20-07-2018         6      7    20   \n",
       "3223          TQWL   52            SL  20-07-2018         6      7    20   \n",
       "3224          TQWL   19            SL  20-07-2018         6      7    20   \n",
       "\n",
       "      Astatus  \n",
       "0           1  \n",
       "1           1  \n",
       "2           0  \n",
       "3           0  \n",
       "4           0  \n",
       "...       ...  \n",
       "3220        0  \n",
       "3221        0  \n",
       "3222        0  \n",
       "3223        0  \n",
       "3224        0  \n",
       "\n",
       "[3225 rows x 8 columns]"
      ]
     },
     "execution_count": 2,
     "metadata": {},
     "output_type": "execute_result"
    }
   ],
   "source": [
    "df = pd.read_csv(\"TB_Data_2.csv\")\n",
    "df"
   ]
  },
  {
   "cell_type": "code",
   "execution_count": 3,
   "id": "36f053ea",
   "metadata": {},
   "outputs": [
    {
     "data": {
      "text/plain": [
       "BookingStatus    0\n",
       "Wno              0\n",
       "ClassOfTravel    0\n",
       "JourneyDate      0\n",
       "Weekdays         0\n",
       "Month            0\n",
       "Days             0\n",
       "Astatus          0\n",
       "dtype: int64"
      ]
     },
     "execution_count": 3,
     "metadata": {},
     "output_type": "execute_result"
    }
   ],
   "source": [
    "df.isnull().sum(axis=0)"
   ]
  },
  {
   "cell_type": "code",
   "execution_count": 4,
   "id": "27e105b4",
   "metadata": {},
   "outputs": [
    {
     "data": {
      "text/html": [
       "<div>\n",
       "<style scoped>\n",
       "    .dataframe tbody tr th:only-of-type {\n",
       "        vertical-align: middle;\n",
       "    }\n",
       "\n",
       "    .dataframe tbody tr th {\n",
       "        vertical-align: top;\n",
       "    }\n",
       "\n",
       "    .dataframe thead th {\n",
       "        text-align: right;\n",
       "    }\n",
       "</style>\n",
       "<table border=\"1\" class=\"dataframe\">\n",
       "  <thead>\n",
       "    <tr style=\"text-align: right;\">\n",
       "      <th></th>\n",
       "      <th>BookingStatus</th>\n",
       "      <th>Wno</th>\n",
       "      <th>ClassOfTravel</th>\n",
       "      <th>JourneyDate</th>\n",
       "      <th>Weekdays</th>\n",
       "      <th>Month</th>\n",
       "      <th>Days</th>\n",
       "      <th>Astatus</th>\n",
       "    </tr>\n",
       "  </thead>\n",
       "  <tbody>\n",
       "    <tr>\n",
       "      <th>0</th>\n",
       "      <td>WL</td>\n",
       "      <td>9</td>\n",
       "      <td>3A</td>\n",
       "      <td>2/12/2016</td>\n",
       "      <td>6</td>\n",
       "      <td>12</td>\n",
       "      <td>2</td>\n",
       "      <td>1</td>\n",
       "    </tr>\n",
       "    <tr>\n",
       "      <th>1</th>\n",
       "      <td>WL</td>\n",
       "      <td>3</td>\n",
       "      <td>3A</td>\n",
       "      <td>1/12/2016</td>\n",
       "      <td>5</td>\n",
       "      <td>12</td>\n",
       "      <td>1</td>\n",
       "      <td>1</td>\n",
       "    </tr>\n",
       "    <tr>\n",
       "      <th>2</th>\n",
       "      <td>WL</td>\n",
       "      <td>1</td>\n",
       "      <td>2A</td>\n",
       "      <td>3/12/2016</td>\n",
       "      <td>7</td>\n",
       "      <td>12</td>\n",
       "      <td>3</td>\n",
       "      <td>0</td>\n",
       "    </tr>\n",
       "    <tr>\n",
       "      <th>3</th>\n",
       "      <td>WL</td>\n",
       "      <td>67</td>\n",
       "      <td>SL</td>\n",
       "      <td>3/12/2016</td>\n",
       "      <td>7</td>\n",
       "      <td>12</td>\n",
       "      <td>3</td>\n",
       "      <td>0</td>\n",
       "    </tr>\n",
       "    <tr>\n",
       "      <th>4</th>\n",
       "      <td>WL</td>\n",
       "      <td>61</td>\n",
       "      <td>SL</td>\n",
       "      <td>3/12/2016</td>\n",
       "      <td>7</td>\n",
       "      <td>12</td>\n",
       "      <td>3</td>\n",
       "      <td>0</td>\n",
       "    </tr>\n",
       "  </tbody>\n",
       "</table>\n",
       "</div>"
      ],
      "text/plain": [
       "  BookingStatus  Wno ClassOfTravel JourneyDate  Weekdays  Month  Days  Astatus\n",
       "0            WL    9            3A   2/12/2016         6     12     2        1\n",
       "1            WL    3            3A   1/12/2016         5     12     1        1\n",
       "2            WL    1            2A   3/12/2016         7     12     3        0\n",
       "3            WL   67            SL   3/12/2016         7     12     3        0\n",
       "4            WL   61            SL   3/12/2016         7     12     3        0"
      ]
     },
     "execution_count": 4,
     "metadata": {},
     "output_type": "execute_result"
    }
   ],
   "source": [
    "df.head()"
   ]
  },
  {
   "cell_type": "code",
   "execution_count": 5,
   "id": "b1606b19",
   "metadata": {},
   "outputs": [
    {
     "data": {
      "text/plain": [
       "(3225, 8)"
      ]
     },
     "execution_count": 5,
     "metadata": {},
     "output_type": "execute_result"
    }
   ],
   "source": [
    "df.shape"
   ]
  },
  {
   "cell_type": "code",
   "execution_count": 6,
   "id": "903a02cb",
   "metadata": {},
   "outputs": [],
   "source": [
    "df.drop(['JourneyDate'], 1, inplace=True)"
   ]
  },
  {
   "cell_type": "code",
   "execution_count": 7,
   "id": "3e75edf0",
   "metadata": {},
   "outputs": [
    {
     "data": {
      "text/html": [
       "<div>\n",
       "<style scoped>\n",
       "    .dataframe tbody tr th:only-of-type {\n",
       "        vertical-align: middle;\n",
       "    }\n",
       "\n",
       "    .dataframe tbody tr th {\n",
       "        vertical-align: top;\n",
       "    }\n",
       "\n",
       "    .dataframe thead th {\n",
       "        text-align: right;\n",
       "    }\n",
       "</style>\n",
       "<table border=\"1\" class=\"dataframe\">\n",
       "  <thead>\n",
       "    <tr style=\"text-align: right;\">\n",
       "      <th></th>\n",
       "      <th>BookingStatus</th>\n",
       "      <th>Wno</th>\n",
       "      <th>ClassOfTravel</th>\n",
       "      <th>Weekdays</th>\n",
       "      <th>Month</th>\n",
       "      <th>Days</th>\n",
       "      <th>Astatus</th>\n",
       "    </tr>\n",
       "  </thead>\n",
       "  <tbody>\n",
       "    <tr>\n",
       "      <th>0</th>\n",
       "      <td>WL</td>\n",
       "      <td>9</td>\n",
       "      <td>3A</td>\n",
       "      <td>6</td>\n",
       "      <td>12</td>\n",
       "      <td>2</td>\n",
       "      <td>1</td>\n",
       "    </tr>\n",
       "    <tr>\n",
       "      <th>1</th>\n",
       "      <td>WL</td>\n",
       "      <td>3</td>\n",
       "      <td>3A</td>\n",
       "      <td>5</td>\n",
       "      <td>12</td>\n",
       "      <td>1</td>\n",
       "      <td>1</td>\n",
       "    </tr>\n",
       "    <tr>\n",
       "      <th>2</th>\n",
       "      <td>WL</td>\n",
       "      <td>1</td>\n",
       "      <td>2A</td>\n",
       "      <td>7</td>\n",
       "      <td>12</td>\n",
       "      <td>3</td>\n",
       "      <td>0</td>\n",
       "    </tr>\n",
       "    <tr>\n",
       "      <th>3</th>\n",
       "      <td>WL</td>\n",
       "      <td>67</td>\n",
       "      <td>SL</td>\n",
       "      <td>7</td>\n",
       "      <td>12</td>\n",
       "      <td>3</td>\n",
       "      <td>0</td>\n",
       "    </tr>\n",
       "    <tr>\n",
       "      <th>4</th>\n",
       "      <td>WL</td>\n",
       "      <td>61</td>\n",
       "      <td>SL</td>\n",
       "      <td>7</td>\n",
       "      <td>12</td>\n",
       "      <td>3</td>\n",
       "      <td>0</td>\n",
       "    </tr>\n",
       "  </tbody>\n",
       "</table>\n",
       "</div>"
      ],
      "text/plain": [
       "  BookingStatus  Wno ClassOfTravel  Weekdays  Month  Days  Astatus\n",
       "0            WL    9            3A         6     12     2        1\n",
       "1            WL    3            3A         5     12     1        1\n",
       "2            WL    1            2A         7     12     3        0\n",
       "3            WL   67            SL         7     12     3        0\n",
       "4            WL   61            SL         7     12     3        0"
      ]
     },
     "execution_count": 7,
     "metadata": {},
     "output_type": "execute_result"
    }
   ],
   "source": [
    "df.head()"
   ]
  },
  {
   "cell_type": "code",
   "execution_count": 8,
   "id": "30ac4923",
   "metadata": {},
   "outputs": [
    {
     "data": {
      "text/plain": [
       "array([1, 1, 0, ..., 0, 0, 0])"
      ]
     },
     "execution_count": 8,
     "metadata": {},
     "output_type": "execute_result"
    }
   ],
   "source": [
    "X = df.values[:,0:6]\n",
    "y = df.values[:,6]\n",
    "y=y.astype('int')\n",
    "y"
   ]
  },
  {
   "cell_type": "code",
   "execution_count": 9,
   "id": "3f98e751",
   "metadata": {},
   "outputs": [
    {
     "data": {
      "text/plain": [
       "array([[0, 9, 0, 6, 12, 2],\n",
       "       [0, 3, 0, 5, 12, 1],\n",
       "       [0, 1, 1, 7, 12, 3],\n",
       "       ...,\n",
       "       [1, 58, 2, 6, 7, 20],\n",
       "       [1, 52, 2, 6, 7, 20],\n",
       "       [1, 19, 2, 6, 7, 20]], dtype=object)"
      ]
     },
     "execution_count": 9,
     "metadata": {},
     "output_type": "execute_result"
    }
   ],
   "source": [
    "X[:,0]=pd.factorize(X[:,0])[0]\n",
    "X[:,2]=pd.factorize(X[:,2])[0]\n",
    "X"
   ]
  },
  {
   "cell_type": "code",
   "execution_count": 10,
   "id": "dcbe05b3",
   "metadata": {},
   "outputs": [
    {
     "data": {
      "text/plain": [
       "Index(['BookingStatus', 'Wno', 'ClassOfTravel', 'Weekdays', 'Month', 'Days',\n",
       "       'Astatus'],\n",
       "      dtype='object')"
      ]
     },
     "execution_count": 10,
     "metadata": {},
     "output_type": "execute_result"
    }
   ],
   "source": [
    "df.columns"
   ]
  },
  {
   "cell_type": "code",
   "execution_count": 11,
   "id": "e05ca883",
   "metadata": {},
   "outputs": [],
   "source": [
    "discrete_features=['BookingStatus' ,  'Weekdays',  'Days']\n",
    "continious_features=list(set(df.columns)-set(discrete_features) -{\"Astatus\"})"
   ]
  },
  {
   "cell_type": "code",
   "execution_count": 12,
   "id": "8d633a1b",
   "metadata": {},
   "outputs": [
    {
     "data": {
      "text/plain": [
       "<AxesSubplot:>"
      ]
     },
     "execution_count": 12,
     "metadata": {},
     "output_type": "execute_result"
    },
    {
     "data": {
      "image/png": "[encoded data removed]",
      "text/plain": [
       "<Figure size 432x288 with 1 Axes>"
      ]
     },
     "metadata": {
      "needs_background": "light"
     },
     "output_type": "display_data"
    }
   ],
   "source": [
    "sns.boxplot(data=df[continious_features])"
   ]
  },
  {
   "cell_type": "code",
   "execution_count": 13,
   "id": "61e86767",
   "metadata": {},
   "outputs": [
    {
     "data": {
      "text/plain": [
       "<AxesSubplot:xlabel='Weekdays', ylabel='Days'>"
      ]
     },
     "execution_count": 13,
     "metadata": {},
     "output_type": "execute_result"
    },
    {
     "data": {
      "image/png": "[encoded data removed]",
      "text/plain": [
       "<Figure size 432x288 with 1 Axes>"
      ]
     },
     "metadata": {
      "needs_background": "light"
     },
     "output_type": "display_data"
    }
   ],
   "source": [
    "sns.violinplot(x=\"Weekdays\",y=\"Days\",data=df,hue=\"Astatus\",split=True)"
   ]
  },
  {
   "cell_type": "code",
   "execution_count": 14,
   "id": "930a9a60",
   "metadata": {},
   "outputs": [
    {
     "data": {
      "text/plain": [
       "<seaborn.axisgrid.FacetGrid at 0xcd66906f40>"
      ]
     },
     "execution_count": 14,
     "metadata": {},
     "output_type": "execute_result"
    },
    {
     "data": {
      "image/png": "[encoded data removed]",
      "text/plain": [
       "<Figure size 405.625x360 with 1 Axes>"
      ]
     },
     "metadata": {
      "needs_background": "light"
     },
     "output_type": "display_data"
    }
   ],
   "source": [
    "sns.displot(x=\"Days\", data=df, hue=\"Astatus\",kde=True)"
   ]
  },
  {
   "cell_type": "code",
   "execution_count": 15,
   "id": "d01d86f9",
   "metadata": {},
   "outputs": [
    {
     "name": "stderr",
     "output_type": "stream",
     "text": [
      "C:\\Users\\User\\anaconda3\\New folder\\lib\\site-packages\\seaborn\\categorical.py:1296: UserWarning: 14.6% of the points cannot be placed; you may want to decrease the size of the markers or use stripplot.\n",
      "  warnings.warn(msg, UserWarning)\n",
      "C:\\Users\\User\\anaconda3\\New folder\\lib\\site-packages\\seaborn\\categorical.py:1296: UserWarning: 67.7% of the points cannot be placed; you may want to decrease the size of the markers or use stripplot.\n",
      "  warnings.warn(msg, UserWarning)\n"
     ]
    },
    {
     "data": {
      "text/plain": [
       "<AxesSubplot:xlabel='BookingStatus', ylabel='Days'>"
      ]
     },
     "execution_count": 15,
     "metadata": {},
     "output_type": "execute_result"
    },
    {
     "data": {
      "image/png": "[encoded data removed]",
      "text/plain": [
       "<Figure size 432x288 with 1 Axes>"
      ]
     },
     "metadata": {
      "needs_background": "light"
     },
     "output_type": "display_data"
    }
   ],
   "source": [
    "sns.swarmplot(x=\"BookingStatus\",y=\"Days\",data=df,hue=\"Astatus\")"
   ]
  },
  {
   "cell_type": "code",
   "execution_count": 16,
   "id": "1e3d9922",
   "metadata": {},
   "outputs": [
    {
     "data": {
      "text/plain": [
       "<AxesSubplot:>"
      ]
     },
     "execution_count": 16,
     "metadata": {},
     "output_type": "execute_result"
    },
    {
     "data": {
      "image/png": "[encoded data removed]",
      "text/plain": [
       "<Figure size 432x288 with 2 Axes>"
      ]
     },
     "metadata": {
      "needs_background": "light"
     },
     "output_type": "display_data"
    }
   ],
   "source": [
    "sns.heatmap(abs(df[continious_features].corr()))"
   ]
  },
  {
   "cell_type": "code",
   "execution_count": 17,
   "id": "8bafd16d",
   "metadata": {},
   "outputs": [],
   "source": [
    "from sklearn.model_selection import train_test_split\n",
    "X_train, X_test, y_train, y_test = train_test_split(X,y, test_size=0.25, random_state=0)"
   ]
  },
  {
   "cell_type": "code",
   "execution_count": 18,
   "id": "e9da02a0",
   "metadata": {},
   "outputs": [],
   "source": [
    "from sklearn.linear_model import LogisticRegression\n",
    "cf =LogisticRegression()"
   ]
  },
  {
   "cell_type": "code",
   "execution_count": 19,
   "id": "1e7d63f3",
   "metadata": {},
   "outputs": [
    {
     "data": {
      "text/plain": [
       "LogisticRegression()"
      ]
     },
     "execution_count": 19,
     "metadata": {},
     "output_type": "execute_result"
    }
   ],
   "source": [
    "cf.fit(X_train, y_train)"
   ]
  },
  {
   "cell_type": "code",
   "execution_count": 20,
   "id": "9282ce1c",
   "metadata": {},
   "outputs": [],
   "source": [
    "Y_pred = cf.predict(X_test)"
   ]
  },
  {
   "cell_type": "code",
   "execution_count": 21,
   "id": "6b02eb97",
   "metadata": {},
   "outputs": [
    {
     "data": {
      "text/plain": [
       "array([[626,   0],\n",
       "       [181,   0]], dtype=int64)"
      ]
     },
     "execution_count": 21,
     "metadata": {},
     "output_type": "execute_result"
    }
   ],
   "source": [
    "from sklearn import metrics\n",
    "cnf_matrix = metrics.confusion_matrix(y_test, Y_pred)\n",
    "cnf_matrix"
   ]
  },
  {
   "cell_type": "code",
   "execution_count": 22,
   "id": "7496e905",
   "metadata": {},
   "outputs": [
    {
     "data": {
      "text/plain": [
       "<Figure size 432x288 with 0 Axes>"
      ]
     },
     "execution_count": 22,
     "metadata": {},
     "output_type": "execute_result"
    },
    {
     "data": {
      "text/plain": [
       "<Figure size 432x288 with 0 Axes>"
      ]
     },
     "metadata": {},
     "output_type": "display_data"
    }
   ],
   "source": [
    "from sklearn.metrics import roc_auc_score\n",
    "from sklearn.metrics import roc_curve\n",
    "Log_roc = roc_auc_score(y_test, cf.predict(X_test))\n",
    "fpr, tpr, thresholds=roc_curve(y_test, cf.predict_proba(X_test)[:,1])\n",
    "plt.figure()"
   ]
  },
  {
   "cell_type": "code",
   "execution_count": 23,
   "id": "4d9c697f",
   "metadata": {},
   "outputs": [],
   "source": [
    "import pickle\n",
    "def predict(ml_model,dump):\n",
    "    model=ml_model.fit(X_train,y_train)\n",
    "    print('Training score : {}'.format(model.score(X_train,y_train)))\n",
    "    y_prediction=model.predict(X_test)\n",
    "    print('predictions are: \\n {}'.format(y_prediction))\n",
    "    print('\\n')\n",
    "    r2_score=metrics.r2_score(y_test,y_prediction)\n",
    "    print('r2 score: {}'.format(r2_score))\n",
    "    print('MAE:',metrics.mean_absolute_error(y_test,y_prediction))\n",
    "    print('MSE:',metrics.mean_squared_error(y_test,y_prediction))\n",
    "    print('RMSE:',np.sqrt(metrics.mean_squared_error(y_test,y_prediction)))\n",
    "    sns.distplot(y_test-y_prediction)"
   ]
  },
  {
   "cell_type": "code",
   "execution_count": 24,
   "id": "bc55d06f",
   "metadata": {},
   "outputs": [
    {
     "name": "stdout",
     "output_type": "stream",
     "text": [
      "Training score : 0.8553203439181517\n",
      "predictions are: \n",
      " [0.13333333 0.14       0.2        0.29       0.14       0.72\n",
      " 0.04       0.01       0.07       0.89       0.08       0.06\n",
      " 0.65       0.51       0.85       0.28333333 0.06       0.03\n",
      " 0.41       0.38       0.         0.12       0.04       0.26\n",
      " 0.04       0.17       0.01       0.01       0.2        0.22\n",
      " 0.16       0.17       0.34       0.23683333 0.02       0.11\n",
      " 0.14       0.14       0.17       0.01       0.02       0.01\n",
      " 0.         0.17       0.05       0.86083333 0.06       0.08\n",
      " 0.04       0.02       0.08       0.44       0.01       0.55866667\n",
      " 0.09       0.01       0.05       0.03666667 0.01       0.\n",
      " 0.01       0.01       0.51       0.14       0.         0.5425\n",
      " 0.2705     0.09       0.43033333 0.3        0.06       0.\n",
      " 0.18       0.32       0.15666667 0.15       0.08       0.13\n",
      " 0.16       0.46       0.06       0.01       0.15583333 0.01\n",
      " 0.05       0.49       0.         0.         0.01       0.43\n",
      " 0.04       0.52333333 0.07       0.         0.09       0.01\n",
      " 0.18       0.5        0.32071429 0.74       0.02       0.15\n",
      " 0.08       0.22       0.03       0.32       0.17       0.48\n",
      " 0.08       0.19       0.42       0.19       0.19       0.36\n",
      " 0.38       0.44       0.17       0.65       0.11       0.44\n",
      " 0.02       0.04       0.12       0.07       0.15       0.03\n",
      " 0.         0.63       0.12       0.28       0.06       0.58\n",
      " 0.18       0.04       0.4        0.09       0.01       0.12\n",
      " 0.14       0.24       0.06       0.21333333 0.74       0.38016667\n",
      " 0.18       0.19       0.28333333 0.1        0.08       0.2\n",
      " 0.49       0.13       0.03       0.         0.         0.36566667\n",
      " 0.03       0.49       0.18       0.05       0.54       0.\n",
      " 0.09       0.05       0.53       0.08       0.01       0.1\n",
      " 0.61       0.07       0.         0.04       0.58       0.13\n",
      " 0.73       0.06       0.15       0.18       0.11       0.06\n",
      " 0.06       0.         0.54       0.22       0.18       0.02\n",
      " 0.06       0.11       0.01       0.25       0.27       0.01\n",
      " 0.26       0.05       0.18       0.14       0.64       0.36\n",
      " 0.16       0.23       0.38       0.07       0.3        0.15\n",
      " 0.02       0.04       0.41       0.14       0.2        0.02\n",
      " 0.38       0.02       0.48       0.56083333 0.07       0.17\n",
      " 0.05       0.2        0.35333333 0.01       0.11       0.07\n",
      " 0.         0.6175     0.14       0.44533333 0.27916667 0.14\n",
      " 0.3        0.2        0.03       0.18       0.2        0.05\n",
      " 0.27333333 0.3        0.01       0.16       0.23       0.13\n",
      " 0.37       0.03       0.46       0.1        0.24       0.54166667\n",
      " 0.11       0.5735     0.         0.11       0.05       0.53666667\n",
      " 0.31       0.34       0.03       0.02       0.24       0.25\n",
      " 0.13       0.41       0.06       0.4        0.         0.02\n",
      " 0.03       0.01       0.02       0.03       0.1        0.03\n",
      " 0.01       0.56       0.4025     0.         0.76       0.37366667\n",
      " 0.26       0.26       0.         0.         0.         0.05\n",
      " 0.21       0.35       0.15       0.         0.         0.705\n",
      " 0.17       0.12       0.01       0.176      0.02       0.38\n",
      " 0.37       0.4295     0.26       0.35       0.285      0.\n",
      " 0.11       0.         0.         0.43       0.01       0.39\n",
      " 0.57       0.13       0.08       0.01       0.8        0.16\n",
      " 0.         0.53       0.31       0.01       0.01       0.28\n",
      " 0.04       0.14       0.05       0.06       0.4875     0.25\n",
      " 0.60333333 0.23333333 0.15       0.68       0.03       0.04\n",
      " 0.07       0.         0.03       0.12       0.02       0.17\n",
      " 0.5205     0.575      0.         0.39       0.         0.\n",
      " 0.07       0.19       0.18       0.15       0.07       0.2025\n",
      " 0.72       0.25       0.15666667 0.04       0.04       0.02\n",
      " 0.         0.04       0.362      0.2        0.13       0.24\n",
      " 0.42       0.32       0.24       0.07       0.91833333 0.39\n",
      " 0.04       0.17933333 0.52333333 0.35333333 0.26       0.02\n",
      " 0.55       0.34       0.05       0.03       0.4        0.07\n",
      " 0.09       0.03       0.55       0.68       0.04       0.13\n",
      " 0.46       0.02       0.08       0.74       0.32       0.27666667\n",
      " 0.02       0.         0.45       0.15       0.01       0.04\n",
      " 0.08       0.06       0.4        0.11       0.05       0.2\n",
      " 0.         0.33333333 0.73583333 0.24333333 0.01       0.17\n",
      " 0.19       0.42       0.         0.615      0.25       0.16\n",
      " 0.02       0.48       0.03       0.         0.24       0.07\n",
      " 0.04       0.05       0.         0.         0.05       0.52866667\n",
      " 0.03       0.06       0.55       0.16       0.05       0.04\n",
      " 0.3        0.07       0.07       0.05       0.02       0.03\n",
      " 0.17       0.41333333 0.3425     0.06       0.17       0.29\n",
      " 0.66       0.12       0.04       0.15       0.3375     0.05\n",
      " 0.41       0.03       0.53       0.32       0.06       0.31\n",
      " 0.61016667 0.31       0.01       0.05       0.01       0.03\n",
      " 0.06       0.12       0.14       0.01       0.53       0.06\n",
      " 0.11       0.2        0.6        0.19       0.01       0.19\n",
      " 0.35       0.37       0.39       0.12       0.02       0.24\n",
      " 0.05       0.2375     0.1        0.38       0.05       0.13\n",
      " 0.01       0.         0.47       0.77       0.73       0.01\n",
      " 0.7        0.         0.51       0.04       0.01       0.09\n",
      " 0.14       0.24333333 0.25       0.26       0.6        0.27\n",
      " 0.1        0.28       0.32       0.11       0.3        0.51\n",
      " 0.         0.38       0.02       0.1        0.74       0.76\n",
      " 0.         0.08       0.02       0.6        0.03       0.1\n",
      " 0.04       0.         0.16       0.         0.32       0.01\n",
      " 0.08       0.         0.17       0.08       0.1        0.12\n",
      " 0.28       0.09       0.21083333 0.         0.3595     0.16\n",
      " 0.2        0.03       0.28333333 0.675      0.395      0.43\n",
      " 0.71333333 0.31       0.33       0.31       0.02       0.27\n",
      " 0.         0.         0.03       0.35       0.03       0.06\n",
      " 0.03       0.31       0.02       0.38083333 0.14       0.\n",
      " 0.45       0.12       0.31       0.09       0.01       0.45\n",
      " 0.01       0.12       0.11       0.32866667 0.42       0.36\n",
      " 0.06       0.12       0.17       0.56833333 0.18       0.59\n",
      " 0.605      0.         0.03       0.29       0.01       0.17\n",
      " 0.67       0.26       0.02       0.52       0.555      0.336\n",
      " 0.05       0.8        0.24       0.66       0.         0.46\n",
      " 0.31       0.02       0.32       0.         0.76883333 0.696\n",
      " 0.57       0.01       0.         0.03       0.08       0.03\n",
      " 0.33       0.08       0.         0.14       0.03       0.23\n",
      " 0.15       0.36       0.37       0.03       0.18       0.\n",
      " 0.04       0.09       0.15       0.29583333 0.         0.04\n",
      " 0.4        0.21       0.03       0.         0.16       0.1\n",
      " 0.33       0.28       0.07       0.05       0.08       0.35\n",
      " 0.04       0.31       0.         0.02       0.         0.02\n",
      " 0.54       0.09       0.22       0.37       0.01       0.15\n",
      " 0.09       0.05       0.11666667 0.33266667 0.49       0.56\n",
      " 0.08       0.03       0.42333333 0.09       0.15       0.1\n",
      " 0.08       0.08       0.01       0.         0.         0.08\n",
      " 0.5975     0.13       0.26366667 0.01       0.         0.49\n",
      " 0.03       0.1        0.1        0.61016667 0.755      0.04\n",
      " 0.53       0.15       0.01       0.         0.18       0.12\n",
      " 0.05       0.24       0.52904762 0.01       0.06       0.08\n",
      " 0.         0.02       0.05       0.19       0.13       0.6375\n",
      " 0.42       0.51       0.1        0.08       0.05       0.03\n",
      " 0.01       0.         0.         0.12       0.15       0.18333333\n",
      " 0.05       0.03       0.53       0.         0.02       0.39\n",
      " 0.11       0.41       0.69       0.01       0.         0.35\n",
      " 0.06       0.3475     0.         0.01       0.         0.38\n",
      " 0.155      0.         0.4275     0.4675     0.28       0.35333333\n",
      " 0.24       0.02       0.1        0.02       0.25       0.\n",
      " 0.05       0.02       0.02       0.795      0.18       0.03\n",
      " 0.01       0.         0.04       0.19       0.12       0.15\n",
      " 0.01       0.18       0.14       0.11       0.56766667 0.\n",
      " 0.05666667 0.04       0.26       0.34       0.8375     0.05\n",
      " 0.24       0.1        0.24       0.27       0.40333333 0.39\n",
      " 0.07       0.         0.81       0.12       0.12       0.05\n",
      " 0.55       0.         0.221      0.43       0.04       0.\n",
      " 0.         0.13       0.24       0.13       0.14       0.22\n",
      " 0.05       0.17       0.32       0.16       0.08       0.58666667\n",
      " 0.3        0.27       0.276      0.01       0.245      0.46\n",
      " 0.16       0.01       0.09      ]\n",
      "\n",
      "\n",
      "r2 score: 0.0548257524525424\n",
      "MAE: 0.2832343187584823\n",
      "MSE: 0.1644438813612186\n",
      "RMSE: 0.40551680774194626\n"
     ]
    },
    {
     "name": "stderr",
     "output_type": "stream",
     "text": [
      "C:\\Users\\User\\anaconda3\\New folder\\lib\\site-packages\\seaborn\\distributions.py:2557: FutureWarning: `distplot` is a deprecated function and will be removed in a future version. Please adapt your code to use either `displot` (a figure-level function with similar flexibility) or `histplot` (an axes-level function for histograms).\n",
      "  warnings.warn(msg, FutureWarning)\n"
     ]
    },
    {
     "data": {
      "image/png": "[encoded data removed]",
      "text/plain": [
       "<Figure size 432x288 with 1 Axes>"
      ]
     },
     "metadata": {
      "needs_background": "light"
     },
     "output_type": "display_data"
    }
   ],
   "source": [
    "from sklearn.ensemble import RandomForestRegressor\n",
    "predict(RandomForestRegressor(),1)"
   ]
  },
  {
   "cell_type": "code",
   "execution_count": 25,
   "id": "65be3c26",
   "metadata": {},
   "outputs": [],
   "source": [
    "from sklearn.model_selection import train_test_split\n",
    "\n",
    "from sklearn.metrics import accuracy_score,r2_score\n",
    "\n",
    "\n",
    "from sklearn.linear_model import LogisticRegression\n",
    "from sklearn.tree import DecisionTreeClassifier\n",
    "from sklearn.neighbors import  KNeighborsClassifier\n",
    "from sklearn.ensemble import RandomForestClassifier\n",
    "from sklearn.neural_network import  MLPClassifier\n",
    "from sklearn.svm import SVC\n"
   ]
  },
  {
   "cell_type": "code",
   "execution_count": 26,
   "id": "1f109010",
   "metadata": {},
   "outputs": [
    {
     "name": "stdout",
     "output_type": "stream",
     "text": [
      "X Train :  (2418, 6)\n",
      "X Test  :  (807, 6)\n",
      "Y Train :  (2418,)\n",
      "Y Test  :  (807,)\n"
     ]
    }
   ],
   "source": [
    "#Defined X value and y value , and split the data train\n",
    "X = df.drop(columns=\"Astatus\")           \n",
    "y = df[\"Astatus\"]    # y = quality\n",
    "\n",
    "# split the data train and test\n",
    "X_train, X_test, y_train, y_test = train_test_split(X, y, test_size=0.25, random_state=42)\n",
    "\n",
    "print(\"X Train : \", X_train.shape)\n",
    "print(\"X Test  : \", X_test.shape)\n",
    "print(\"Y Train : \", y_train.shape)\n",
    "print(\"Y Test  : \", y_test.shape)"
   ]
  },
  {
   "cell_type": "code",
   "execution_count": 27,
   "id": "6778913d",
   "metadata": {},
   "outputs": [],
   "source": [
    "LR = LogisticRegression()\n",
    "DTR = DecisionTreeClassifier()\n",
    "RFR = RandomForestClassifier()\n",
    "KNR = KNeighborsClassifier()\n",
    "MLP = MLPClassifier()\n",
    "SVR=SVC()"
   ]
  },
  {
   "cell_type": "code",
   "execution_count": 28,
   "id": "45db6d53",
   "metadata": {},
   "outputs": [],
   "source": [
    "from sklearn.model_selection import cross_val_score"
   ]
  },
  {
   "cell_type": "code",
   "execution_count": 29,
   "id": "a06ef716",
   "metadata": {},
   "outputs": [],
   "source": [
    "X_train,X_test,y_train,y_test = train_test_split(X,y, test_size=0.2)"
   ]
  },
  {
   "cell_type": "code",
   "execution_count": 30,
   "id": "c1dacdc3",
   "metadata": {},
   "outputs": [],
   "source": [
    "from sklearn.tree import DecisionTreeClassifier"
   ]
  },
  {
   "cell_type": "code",
   "execution_count": null,
   "id": "857679b7",
   "metadata": {},
   "outputs": [],
   "source": []
  }
 ],
 "metadata": {
  "kernelspec": {
   "display_name": "Python 3",
   "language": "python",
   "name": "python3"
  },
  "language_info": {
   "codemirror_mode": {
    "name": "ipython",
    "version": 3
   },
   "file_extension": ".py",
   "mimetype": "text/x-python",
   "name": "python",
   "nbconvert_exporter": "python",
   "pygments_lexer": "ipython3",
   "version": "3.8.8"
  }
 },
 "nbformat": 4,
 "nbformat_minor": 5
}
